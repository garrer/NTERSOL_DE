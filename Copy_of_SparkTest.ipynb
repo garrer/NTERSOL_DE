{
  "nbformat": 4,
  "nbformat_minor": 0,
  "metadata": {
    "colab": {
      "provenance": [],
      "collapsed_sections": [],
      "include_colab_link": true
    },
    "kernelspec": {
      "name": "python3",
      "display_name": "Python 3"
    },
    "language_info": {
      "name": "python"
    }
  },
  "cells": [
    {
      "cell_type": "markdown",
      "metadata": {
        "id": "view-in-github",
        "colab_type": "text"
      },
      "source": [
        "<a href=\"https://colab.research.google.com/github/garrer/NTERSOL_DE/blob/main/Copy_of_SparkTest.ipynb\" target=\"_parent\"><img src=\"https://colab.research.google.com/assets/colab-badge.svg\" alt=\"Open In Colab\"/></a>"
      ]
    },
    {
      "cell_type": "markdown",
      "source": [
        "\n",
        "# Code required to get Spark environment"
      ],
      "metadata": {
        "id": "Bl9jWbO3BQfW"
      }
    },
    {
      "cell_type": "code",
      "source": [
        "!pip install pyspark"
      ],
      "metadata": {
        "id": "unxEZkZSUDME",
        "colab": {
          "base_uri": "https://localhost:8080/"
        },
        "outputId": "c007fde4-00e1-4582-f9b8-5f09d7fc488e"
      },
      "execution_count": 2,
      "outputs": [
        {
          "output_type": "stream",
          "name": "stdout",
          "text": [
            "Looking in indexes: https://pypi.org/simple, https://us-python.pkg.dev/colab-wheels/public/simple/\n",
            "Collecting pyspark\n",
            "  Downloading pyspark-3.3.1.tar.gz (281.4 MB)\n",
            "\u001b[K     |████████████████████████████████| 281.4 MB 43 kB/s \n",
            "\u001b[?25hCollecting py4j==0.10.9.5\n",
            "  Downloading py4j-0.10.9.5-py2.py3-none-any.whl (199 kB)\n",
            "\u001b[K     |████████████████████████████████| 199 kB 48.2 MB/s \n",
            "\u001b[?25hBuilding wheels for collected packages: pyspark\n",
            "  Building wheel for pyspark (setup.py) ... \u001b[?25l\u001b[?25hdone\n",
            "  Created wheel for pyspark: filename=pyspark-3.3.1-py2.py3-none-any.whl size=281845513 sha256=70d675de186e5d6e5a57f357d2ef5a14b0d7a2e8a79fb83ad75a21c578e043e7\n",
            "  Stored in directory: /root/.cache/pip/wheels/42/59/f5/79a5bf931714dcd201b26025347785f087370a10a3329a899c\n",
            "Successfully built pyspark\n",
            "Installing collected packages: py4j, pyspark\n",
            "Successfully installed py4j-0.10.9.5 pyspark-3.3.1\n"
          ]
        }
      ]
    },
    {
      "cell_type": "code",
      "source": [
        "from pyspark.sql import SparkSession\n",
        "spark = SparkSession.builder\\\n",
        "        .master(\"local\")\\\n",
        "        .appName(\"Colab\")\\\n",
        "        .config('spark.ui.port', '4050')\\\n",
        "        .getOrCreate()"
      ],
      "metadata": {
        "id": "nsFVKmllUGdZ"
      },
      "execution_count": 3,
      "outputs": []
    },
    {
      "cell_type": "code",
      "source": [
        "spark"
      ],
      "metadata": {
        "id": "LSPhc-2ZWyD5",
        "colab": {
          "base_uri": "https://localhost:8080/",
          "height": 219
        },
        "outputId": "87daf2ee-2822-4989-d683-f53198a9c26d"
      },
      "execution_count": 4,
      "outputs": [
        {
          "output_type": "execute_result",
          "data": {
            "text/plain": [
              "<pyspark.sql.session.SparkSession at 0x7f449ac651d0>"
            ],
            "text/html": [
              "\n",
              "            <div>\n",
              "                <p><b>SparkSession - in-memory</b></p>\n",
              "                \n",
              "        <div>\n",
              "            <p><b>SparkContext</b></p>\n",
              "\n",
              "            <p><a href=\"http://9f2929f8bdac:4050\">Spark UI</a></p>\n",
              "\n",
              "            <dl>\n",
              "              <dt>Version</dt>\n",
              "                <dd><code>v3.3.1</code></dd>\n",
              "              <dt>Master</dt>\n",
              "                <dd><code>local</code></dd>\n",
              "              <dt>AppName</dt>\n",
              "                <dd><code>Colab</code></dd>\n",
              "            </dl>\n",
              "        </div>\n",
              "        \n",
              "            </div>\n",
              "        "
            ]
          },
          "metadata": {},
          "execution_count": 4
        }
      ]
    },
    {
      "cell_type": "code",
      "source": [
        "raw_df = spark.read.csv('sample_data/data-engineer-interview-data.csv', header=True)"
      ],
      "metadata": {
        "id": "as5tdLNGqkga"
      },
      "execution_count": 6,
      "outputs": []
    },
    {
      "cell_type": "code",
      "source": [
        "raw_df.createOrReplaceTempView(\"TitleData\")"
      ],
      "metadata": {
        "id": "qJCK3348qm7D"
      },
      "execution_count": 7,
      "outputs": []
    },
    {
      "cell_type": "code",
      "source": [
        "spark.sql(\"select * from TitleData limit 10\")"
      ],
      "metadata": {
        "colab": {
          "base_uri": "https://localhost:8080/"
        },
        "id": "u0YU2nROqvrl",
        "outputId": "677c8fc0-0ff0-487b-8333-fe05daee6522"
      },
      "execution_count": 8,
      "outputs": [
        {
          "output_type": "execute_result",
          "data": {
            "text/plain": [
              "DataFrame[DocumentNumber: string, DocumentDate: string, DocumentType: string, RefersToDocumentNumber: string, RefersToDocumentYear: string, Remarks: string]"
            ]
          },
          "metadata": {},
          "execution_count": 8
        }
      ]
    },
    {
      "cell_type": "code",
      "source": [
        "raw_df.show(10)"
      ],
      "metadata": {
        "colab": {
          "base_uri": "https://localhost:8080/"
        },
        "id": "wwSvuQycrFU_",
        "outputId": "e2cfa9d7-6034-4312-ca91-6b8800f258a1"
      },
      "execution_count": 9,
      "outputs": [
        {
          "output_type": "stream",
          "name": "stdout",
          "text": [
            "+--------------+------------+------------+----------------------+--------------------+------------+\n",
            "|DocumentNumber|DocumentDate|DocumentType|RefersToDocumentNumber|RefersToDocumentYear|     Remarks|\n",
            "+--------------+------------+------------+----------------------+--------------------+------------+\n",
            "|            27|   8/16/2021|           C|                  null|                null|        null|\n",
            "|             1|   2/15/2021|           T|                     8|                2020|2020 0008-00|\n",
            "|            67|   10/9/2020|           A|                  null|                null|        null|\n",
            "|           157|   10/9/2020|           A|                  null|                null|        null|\n",
            "|           189|   10/9/2020|           J|                  null|                null|        null|\n",
            "|           250|   10/9/2020|           R|                  2016|                  98|        null|\n",
            "|            87|    8/7/2020|           R|                  1992|                  97|        null|\n",
            "|             8|    7/3/2020|           B|                  null|                null|        null|\n",
            "|             2|    1/5/2020|           C|                  null|                null|        null|\n",
            "|            34|   6/21/2019|           A|                  null|                null|        null|\n",
            "+--------------+------------+------------+----------------------+--------------------+------------+\n",
            "only showing top 10 rows\n",
            "\n"
          ]
        }
      ]
    },
    {
      "cell_type": "code",
      "source": [
        "spark.sql(\"\"\"\n",
        "                select *, CAST ((DocumentNumber+split(DocumentDate,'/')[2]) AS INT) as document_unique_Id,  \n",
        "                    CAST ( COALESCE(RefersToDocumentNumber, 0)+ COALESCE (RefersToDocumentYear, 0) AS INT) as document_ref_unique_Id                   \n",
        "                    from TitleData\n",
        "                    \"\"\").createOrReplaceTempView(\"derived\")"
      ],
      "metadata": {
        "id": "d0CkVg78rLM_"
      },
      "execution_count": 15,
      "outputs": []
    },
    {
      "cell_type": "code",
      "source": [
        "spark.sql(\"\"\"select * from derived limit 10\"\"\").show(10)"
      ],
      "metadata": {
        "colab": {
          "base_uri": "https://localhost:8080/"
        },
        "id": "AEpLVqierjjt",
        "outputId": "7d0812b6-608b-47b5-d9e3-fbb1a3c6b7e4"
      },
      "execution_count": 17,
      "outputs": [
        {
          "output_type": "stream",
          "name": "stdout",
          "text": [
            "+--------------+------------+------------+----------------------+--------------------+------------+------------------+----------------------+\n",
            "|DocumentNumber|DocumentDate|DocumentType|RefersToDocumentNumber|RefersToDocumentYear|     Remarks|document_unique_Id|document_ref_unique_Id|\n",
            "+--------------+------------+------------+----------------------+--------------------+------------+------------------+----------------------+\n",
            "|            27|   8/16/2021|           C|                  null|                null|        null|              2048|                     0|\n",
            "|             1|   2/15/2021|           T|                     8|                2020|2020 0008-00|              2022|                  2028|\n",
            "|            67|   10/9/2020|           A|                  null|                null|        null|              2087|                     0|\n",
            "|           157|   10/9/2020|           A|                  null|                null|        null|              2177|                     0|\n",
            "|           189|   10/9/2020|           J|                  null|                null|        null|              2209|                     0|\n",
            "|           250|   10/9/2020|           R|                  2016|                  98|        null|              2270|                  2114|\n",
            "|            87|    8/7/2020|           R|                  1992|                  97|        null|              2107|                  2089|\n",
            "|             8|    7/3/2020|           B|                  null|                null|        null|              2028|                     0|\n",
            "|             2|    1/5/2020|           C|                  null|                null|        null|              2022|                     0|\n",
            "|            34|   6/21/2019|           A|                  null|                null|        null|              2053|                     0|\n",
            "+--------------+------------+------------+----------------------+--------------------+------------+------------------+----------------------+\n",
            "\n"
          ]
        }
      ]
    },
    {
      "cell_type": "code",
      "source": [
        "spark.sql (\"\"\"select t1.*, t2.DocumentType as ReferenceType           \n",
        "                 from derived t1 INNER JOIN derived t2 on t1.document_ref_unique_Id = t2.document_unique_Id\"\"\"            \n",
        "               ).createOrReplaceTempView(\"derived_final\")"
      ],
      "metadata": {
        "id": "mr4c78Gisoit"
      },
      "execution_count": 29,
      "outputs": []
    },
    {
      "cell_type": "code",
      "source": [
        "spark.sql(\"\"\"select * from derived_final limit 10\"\"\").show(10)"
      ],
      "metadata": {
        "colab": {
          "base_uri": "https://localhost:8080/"
        },
        "id": "W0VmKFEfs8Gp",
        "outputId": "8f6eb4f0-f782-4e4a-faee-d280e6917ed8"
      },
      "execution_count": 30,
      "outputs": [
        {
          "output_type": "stream",
          "name": "stdout",
          "text": [
            "+--------------+------------+------------+----------------------+--------------------+------------+------------------+----------------------+-------------+\n",
            "|DocumentNumber|DocumentDate|DocumentType|RefersToDocumentNumber|RefersToDocumentYear|     Remarks|document_unique_Id|document_ref_unique_Id|ReferenceType|\n",
            "+--------------+------------+------------+----------------------+--------------------+------------+------------------+----------------------+-------------+\n",
            "|             1|   2/15/2021|           T|                     8|                2020|2020 0008-00|              2022|                  2028|            B|\n",
            "|           250|   10/9/2020|           R|                  2016|                  98|        null|              2270|                  2114|            C|\n",
            "|           250|   10/9/2020|           R|                  2016|                  98|        null|              2270|                  2114|            A|\n",
            "|           250|   10/9/2020|           R|                  2016|                  98|        null|              2270|                  2114|            B|\n",
            "|            87|    8/7/2020|           R|                  1992|                  97|        null|              2107|                  2089|            A|\n",
            "|           117|   6/21/2019|           R|                  2013|                  84|        null|              2136|                  2097|            B|\n",
            "|            59|  10/15/2018|           R|                  2002|                 199|        null|              2077|                  2201|            B|\n",
            "|            82|  10/17/2016|           R|                  2015|                 130|        null|              2098|                  2145|            J|\n",
            "|            82|  10/17/2016|           R|                  2015|                 130|        null|              2098|                  2145|            A|\n",
            "|           160|  10/17/2016|           A|                  2015|                  94|        null|              2176|                  2109|            C|\n",
            "+--------------+------------+------------+----------------------+--------------------+------------+------------------+----------------------+-------------+\n",
            "\n"
          ]
        }
      ]
    },
    {
      "cell_type": "code",
      "source": [
        "%%markdown\n",
        "\n",
        "* Documents of type J (a \"judgment\" document) no longer apply if a document of type T (a \"termination\" document) refers to it\n",
        "* Documents of any other type no longer apply if a document of type R (a \"release\" document) refers to it\n",
        "\n"
      ],
      "metadata": {
        "colab": {
          "base_uri": "https://localhost:8080/",
          "height": 64
        },
        "id": "Qsq803CTtHc3",
        "outputId": "c4854ac7-1348-49d0-fe67-315eb8c254e1"
      },
      "execution_count": 23,
      "outputs": [
        {
          "output_type": "display_data",
          "data": {
            "text/plain": [
              "<IPython.core.display.Markdown object>"
            ],
            "text/markdown": "\n* Documents of type J (a \"judgment\" document) no longer apply if a document of type T (a \"termination\" document) refers to it\n* Documents of any other type no longer apply if a document of type R (a \"release\" document) refers to it\n\n"
          },
          "metadata": {}
        }
      ]
    },
    {
      "cell_type": "code",
      "source": [
        "spark.sql (\"\"\"\n",
        "            \n",
        "            SELECT * FROM derived_final t1 WHERE t1.document_unique_Id NOT IN (\n",
        "            SELECT  document_unique_Id  FROM derived_final t1 where (lower (t1.DocumentType) == 't' and\n",
        "            lower (t1.ReferenceType) == 'j') OR (lower (t1.ReferenceType) == 'r')) \n",
        "                \n",
        "            \"\"\").createOrReplaceTempView(\"TitleDataFinal\")"
      ],
      "metadata": {
        "id": "HiSwC_cTuL5M"
      },
      "execution_count": 33,
      "outputs": []
    },
    {
      "cell_type": "markdown",
      "source": [],
      "metadata": {
        "id": "1ZBFYtuRtsHm"
      }
    },
    {
      "cell_type": "code",
      "source": [
        "#test case: Check if TitleDataFinal has any document type J referencing to document type T\n",
        "spark.sql (\"\"\" select * from TitleDataFinal where upper(DocumentType)=='T' and upper(ReferenceType)=='J' \"\"\").show(10)"
      ],
      "metadata": {
        "colab": {
          "base_uri": "https://localhost:8080/"
        },
        "id": "TQ02mQFlusX-",
        "outputId": "fbdb3a8f-5f99-46b9-cfa5-514213a9417c"
      },
      "execution_count": 34,
      "outputs": [
        {
          "output_type": "stream",
          "name": "stdout",
          "text": [
            "+--------------+------------+------------+----------------------+--------------------+-------+------------------+----------------------+-------------+\n",
            "|DocumentNumber|DocumentDate|DocumentType|RefersToDocumentNumber|RefersToDocumentYear|Remarks|document_unique_Id|document_ref_unique_Id|ReferenceType|\n",
            "+--------------+------------+------------+----------------------+--------------------+-------+------------------+----------------------+-------------+\n",
            "+--------------+------------+------------+----------------------+--------------------+-------+------------------+----------------------+-------------+\n",
            "\n"
          ]
        }
      ]
    },
    {
      "cell_type": "code",
      "source": [
        "#test case: Check if TitleDataFinal has any record referencing document type R\n",
        "spark.sql (\"\"\" select * from TitleDataFinal where upper(ReferenceType)=='R' \"\"\").show(10)"
      ],
      "metadata": {
        "colab": {
          "base_uri": "https://localhost:8080/"
        },
        "id": "qyyHEUrHwC39",
        "outputId": "50293b25-1a1f-46b9-c661-a155be67e7ab"
      },
      "execution_count": 35,
      "outputs": [
        {
          "output_type": "stream",
          "name": "stdout",
          "text": [
            "+--------------+------------+------------+----------------------+--------------------+-------+------------------+----------------------+-------------+\n",
            "|DocumentNumber|DocumentDate|DocumentType|RefersToDocumentNumber|RefersToDocumentYear|Remarks|document_unique_Id|document_ref_unique_Id|ReferenceType|\n",
            "+--------------+------------+------------+----------------------+--------------------+-------+------------------+----------------------+-------------+\n",
            "+--------------+------------+------------+----------------------+--------------------+-------+------------------+----------------------+-------------+\n",
            "\n"
          ]
        }
      ]
    }
  ]
}